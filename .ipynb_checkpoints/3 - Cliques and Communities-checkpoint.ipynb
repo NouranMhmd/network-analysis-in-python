{
 "cells": [
  {
   "cell_type": "markdown",
   "metadata": {},
   "source": [
    "# Cliques and Communities\n",
    "\n",
    "## Cliques\n",
    "- Social cliques: tightly-knit groups\n",
    "- Set of node completely connected\n",
    "- An edge is the simplest clique possible\n",
    "- Simplest complex clique\n",
    "    - 3 fully connected nodes (triangle)\n",
    "- Finding triangles in a network\n",
    "    - Friend recommendation systems\n",
    "    - If A knows B, and A knows C, B may know C\n",
    "    - Triangle closure\n",
    "<img src=\"./assets/triangle.png\", alt=\"triangle graph\", style=\"width:250px\">\n",
    "\n",
    "- Find all triangles that are a part of a graph    "
   ]
  },
  {
   "cell_type": "code",
   "execution_count": 2,
   "metadata": {
    "collapsed": false
   },
   "outputs": [],
   "source": [
    "import networkx as nx\n",
    "from itertools import combinations\n",
    "\n",
    "# Write a function that identifies all nodes in a triangle relationship with a given node.\n",
    "def nodes_in_triangle(G, n):\n",
    "    \"\"\"\n",
    "    Returns the nodes in a graph `G` that are involved in a triangle relationship with the node `n`.\n",
    "    \"\"\"\n",
    "    triangle_nodes = set([n])\n",
    "    \n",
    "    # Iterate over all possible triangle relationship combinations\n",
    "    for n1, n2 in combinations(G.neighbors(n),2):\n",
    "    \n",
    "        # Check if n1 and n2 have an edge between them\n",
    "        if G.has_edge(n1,n2):\n",
    "        \n",
    "            # Add n1 to triangle_nodes\n",
    "            triangle_nodes.add(n1)\n",
    "            \n",
    "            # Add n2 to triangle_nodes\n",
    "            triangle_nodes.add(n2)\n",
    "            \n",
    "    return triangle_nodes\n",
    "    \n",
    "# Write the assertion statement\n",
    "# assert len(nodes_in_triangle(T, 1)) == 35"
   ]
  },
  {
   "cell_type": "code",
   "execution_count": 3,
   "metadata": {
    "collapsed": true
   },
   "outputs": [],
   "source": [
    "from itertools import combinations\n",
    "\n",
    "# Define node_in_open_triangle()\n",
    "def node_in_open_triangle(G, n):\n",
    "    \"\"\"\n",
    "    Checks whether pairs of neighbors of node `n` in graph `G` are in an 'open triangle' relationship with node `n`.\n",
    "    \"\"\"\n",
    "    in_open_triangle = False\n",
    "    \n",
    "    # Iterate over all possible triangle relationship combinations\n",
    "    for n1, n2 in combinations(G.neighbors(n),2):\n",
    "    \n",
    "        # Check if n1 and n2 do NOT have an edge between them\n",
    "        if not G.has_edge(n1,n2):\n",
    "        \n",
    "            in_open_triangle = True\n",
    "            \n",
    "            break\n",
    "            \n",
    "    return in_open_triangle\n",
    "\n",
    "# Compute the number of open triangles in T\n",
    "num_open_triangles = 0\n",
    "\n",
    "# # Iterate over all the nodes in T\n",
    "# for n in T.nodes():\n",
    "\n",
    "#     # Check if the current node is in an open triangle\n",
    "#     if node_in_open_triangle(T,n):\n",
    "    \n",
    "#         # Increment num_open_triangles\n",
    "#         num_open_triangles += 1\n",
    "        \n",
    "# print(num_open_triangles)"
   ]
  },
  {
   "cell_type": "markdown",
   "metadata": {},
   "source": [
    "## Maximal cliques\n",
    "- A clique that, when extended by another node, is no longer a clique\n",
    "<img src=\"./assets/maxclique1.png\", alt=\"triangle graph\", style=\"width:250px\">\n",
    "- Subclique of 3 green nodes can be extended by one blue node to form a larger clique\n",
    "    - As such, the 3 green nodes do not form a maximal clique on the graph\n",
    "- The four nodes that include the blue node **cannot** be extended to still remain a clique    \n",
    "- These four nodes constitute a maximal clique\n",
    "\n",
    "Useful for Community finding algorithms\n",
    "\n",
    "## Communities\n",
    "- Fully connected subgraphs within a larger graph\n",
    "- By identifying maximal cliques, one naive way of identifying communities:\n",
    "    - Find Unions of maximal cliques\n",
    "    - Share a number of members\n",
    "    - Also of some minimum size\n",
    "    \n",
    "### NetworkX API\n",
    "-`nx.find_cliques` function\n",
    "- Will **only** find the set of **maximal** cliques\n",
    "- Look at barbell from before:\n",
    "<img src=\"./assets/barbell.png\", alt=\"triangle graph\", style=\"width:250px\">\n",
    "- `nx.find_cliques` returns a `generator` function that we can iterate over\n",
    "    - does NOT return list\n",
    "    - must cast as list\n",
    "    - There are two maximal cliques of size 5\n",
    "    - There are **also** two maximal cliques of size 2\n"
   ]
  },
  {
   "cell_type": "code",
   "execution_count": 4,
   "metadata": {
    "collapsed": true
   },
   "outputs": [],
   "source": [
    "# Define maximal_cliques()\n",
    "def maximal_cliques(G,size):\n",
    "    \"\"\"\n",
    "    Finds all maximal cliques in graph `G` that are of size `size`.\n",
    "    \"\"\"\n",
    "    mcs = []\n",
    "    for clique in list(nx.find_cliques(G)):\n",
    "        if len(clique) == size:\n",
    "            mcs.append(clique)\n",
    "    return mcs\n",
    "\n",
    "# Check that there are 33 maximal cliques of size 3 in the graph T\n",
    "# assert len(maximal_cliques(T,3)) == 33"
   ]
  },
  {
   "cell_type": "markdown",
   "metadata": {},
   "source": [
    "## Subgraphs\n",
    "\n",
    "- Visualize small portion of graph\n",
    "    - e.g. particular path, community, clique\n",
    "    - explore graph structure going out a number degrees of separation from a node\n",
    "\n",
    "`nx.erdos_renyi_graph(n=20,p=0.2)` to create a graph\n"
   ]
  },
  {
   "cell_type": "code",
   "execution_count": 9,
   "metadata": {
    "collapsed": false
   },
   "outputs": [
    {
     "data": {
      "image/png": "[encoded data removed]",
      "text/plain": [
       "<matplotlib.figure.Figure at 0x10bb16cc0>"
      ]
     },
     "metadata": {},
     "output_type": "display_data"
    }
   ],
   "source": [
    "import matplotlib.pyplot as plt\n",
    "%matplotlib inline\n",
    "\n",
    "#create a graph\n",
    "G = nx.erdos_renyi_graph(n=20,p=0.2)\n",
    "G.nodes()\n",
    "nodes = G.neighbors(8) #list of neighbor nodes\n",
    "nodes.append(8) #include original node\n",
    "\n",
    "G_eight = G.subgraph(nodes) #new graph containing 8 and its neighborsm and the edges, and the neighbors' edges\n",
    "nx.draw(G_eight,with_labels=True)"
   ]
  },
  {
   "cell_type": "markdown",
   "metadata": {},
   "source": [
    "Create function to do subgraph retrieval for us."
   ]
  },
  {
   "cell_type": "code",
   "execution_count": 10,
   "metadata": {
    "collapsed": true
   },
   "outputs": [],
   "source": [
    "nodes_of_interest = [29, 38, 42]\n",
    "\n",
    "# Define get_nodes_and_nbrs()\n",
    "def get_nodes_and_nbrs(G, nodes_of_interest):\n",
    "    \"\"\"\n",
    "    Returns a subgraph of the graph `G` with only the `nodes_of_interest` and their neighbors.\n",
    "    \"\"\"\n",
    "    nodes_to_draw = []\n",
    "    \n",
    "    # Iterate over the nodes of interest\n",
    "    for n in nodes_of_interest:\n",
    "    \n",
    "        # Append the nodes of interest to nodes_to_draw\n",
    "        nodes_to_draw.append(n)\n",
    "        \n",
    "        # Iterate over all the neighbors of node n\n",
    "        for nbr in G.neighbors(n):\n",
    "        \n",
    "            # Append the neighbors of n to nodes_to_draw\n",
    "            nodes_to_draw.append(nbr)\n",
    "            \n",
    "    return G.subgraph(nodes_to_draw)\n",
    "\n",
    "# # Extract the subgraph with the nodes of interest: T_draw\n",
    "# T_draw = get_nodes_and_nbrs(T,nodes_of_interest)\n",
    "\n",
    "# # Draw the subgraph to the screen\n",
    "# nx.draw(T_draw)\n",
    "# plt.show()"
   ]
  },
  {
   "cell_type": "code",
   "execution_count": 11,
   "metadata": {
    "collapsed": true
   },
   "outputs": [],
   "source": [
    "# # Extract the nodes of interest: nodes\n",
    "# nodes = [n for n, d in T.nodes(data=True) if d['occupation'] == 'celebrity']\n",
    "\n",
    "# # Create the set of nodes: nodeset\n",
    "# nodeset = set(nodes)\n",
    "\n",
    "# # Iterate over nodes\n",
    "# for n in nodes:\n",
    "\n",
    "#     # Compute the neighbors of n: nbrs\n",
    "#     nbrs = T.neighbors(n)\n",
    "    \n",
    "#     # Compute the union of nodeset and nbrs: nodeset\n",
    "#     nodeset = nodeset.union(nbrs)\n",
    "\n",
    "# # Compute the subgraph using nodeset: T_sub\n",
    "# T_sub = T.subgraph(nodeset)\n",
    "\n",
    "# # Draw T_sub to the screen\n",
    "# nx.draw(T_sub)\n",
    "# plt.show()"
   ]
  }
 ],
 "metadata": {
  "anaconda-cloud": {},
  "kernelspec": {
   "display_name": "Python [Root]",
   "language": "python",
   "name": "Python [Root]"
  },
  "language_info": {
   "codemirror_mode": {
    "name": "ipython",
    "version": 3
   },
   "file_extension": ".py",
   "mimetype": "text/x-python",
   "name": "python",
   "nbconvert_exporter": "python",
   "pygments_lexer": "ipython3",
   "version": "3.5.2"
  }
 },
 "nbformat": 4,
 "nbformat_minor": 0
}
