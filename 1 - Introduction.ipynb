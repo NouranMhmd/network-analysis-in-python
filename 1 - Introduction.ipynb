{
 "cells": [
  {
   "cell_type": "markdown",
   "metadata": {},
   "source": [
    "# Introduction to Networks\n",
    "\n",
    "- Examples:\n",
    "    - Social\n",
    "    - Transportation\n",
    "- Model relationships between entities\n",
    "- Gain insights into which nodes are important\n",
    "    - e.g. broadcasters/influencers that are important\n",
    "    - which transportation hubs are important\n",
    "\n",
    "## Networks consist of two elements:\n",
    "- Nodes\n",
    "- Edges\n",
    "    - Lines connecting nodes\n",
    "- Together these make _Graphs_\n",
    "\n",
    "<img src=\"./assets/Network.png\", alt=\"example network\", style=\"width:400px\">\n",
    "\n",
    "- We can put metadata into our graph\n",
    "- In the above example\n",
    "    - Nodes have ID and Age metadata\n",
    "    - Edge has friendship date data\n",
    "    \n",
    "In Python, `networkx` is used for network analysis."
   ]
  },
  {
   "cell_type": "markdown",
   "metadata": {},
   "source": [
    "## Types of graphs\n",
    "\n",
    "### Undirected graphs\n",
    "- No inherent directionality associated\n",
    "<img src=\"./assets/undirected.png\", alt=\"undirected network\", style=\"width:300px\">\n",
    "- Denoted as regular graphs or multigraphs in networkx\n",
    "- E.g. facebook friendship\n",
    "\n",
    "### Directed graphs\n",
    "- Edges contain directional information\n",
    "    - e.g. twitter/instagram followers\n",
    "<img src=\"./assets/directed.png\", alt=\"directed network\", style=\"width:300px\">\n",
    "- digraph or multidigraph in networkx\n",
    "\n",
    "<img src=\"./assets/collapse.png\", alt=\"collapsed network\", style=\"width:300px\">\n",
    "- can collapse edges into single edge, and have the number of original edges as metadata\n",
    "\n",
    "### Self-loops\n",
    "- E.g. bike sharing data when a trip begins at a station and ends at the same station\n",
    "<img src=\"./assets/self-loop.png\", alt=\"self loop\", style=\"width:300px\">\n",
    "\n"
   ]
  },
  {
   "cell_type": "code",
   "execution_count": 2,
   "metadata": {
    "collapsed": false
   },
   "outputs": [],
   "source": [
    "import nxviz as nv"
   ]
  },
  {
   "cell_type": "markdown",
   "metadata": {},
   "source": [
    "## Basic examples using Twitter dataset\n",
    "Dataset not physically provided so the below code won't run"
   ]
  },
  {
   "cell_type": "code",
   "execution_count": 4,
   "metadata": {
    "collapsed": true
   },
   "outputs": [],
   "source": [
    "# Import necessary modules\n",
    "import matplotlib.pyplot as plt\n",
    "%matplotlib inline\n",
    "import networkx as nx\n",
    "\n",
    "# Draw the graph to screen\n",
    "# nx.draw(T_sub)\n",
    "# plt.show()"
   ]
  },
  {
   "cell_type": "code",
   "execution_count": 5,
   "metadata": {
    "collapsed": true
   },
   "outputs": [],
   "source": [
    "# ArcPlot()\n",
    "# CircosPlot()\n",
    "# MatrixPlot()\n",
    "# Can also order and color by meta data"
   ]
  },
  {
   "cell_type": "code",
   "execution_count": 6,
   "metadata": {
    "collapsed": true
   },
   "outputs": [],
   "source": [
    "# # Use a list comprehension to get the nodes of interest: noi\n",
    "# noi = [n for n, d in T.nodes(data=True) if d['occupation'] == 'scientist']\n",
    "\n",
    "# # Use a list comprehension to get the edges of interest: eoi\n",
    "# eoi = [(u, v) for u, v, d in T.edges(data=True) if d['date'] < date(2010,1,1)]"
   ]
  },
  {
   "cell_type": "markdown",
   "metadata": {},
   "source": [
    "## Specifying weights on edges"
   ]
  },
  {
   "cell_type": "code",
   "execution_count": 9,
   "metadata": {
    "collapsed": true
   },
   "outputs": [],
   "source": [
    "# # Set the weight of the edge\n",
    "# T.edge[1][10]['weight'] = 2\n",
    "\n",
    "# # Iterate over all the edges (with metadata)\n",
    "# for u, v, d in T.edges(data=True):\n",
    "\n",
    "#     # Check if node 293 is involved\n",
    "#     if 293 in (u,v):\n",
    "    \n",
    "#         # Set the weight to 1.1\n",
    "#         T.edge[u][v]['weight'] = 1.1"
   ]
  },
  {
   "cell_type": "markdown",
   "metadata": {},
   "source": [
    "## Identifying self-loops"
   ]
  },
  {
   "cell_type": "code",
   "execution_count": 10,
   "metadata": {
    "collapsed": true
   },
   "outputs": [],
   "source": [
    "# Define find_selfloop_nodes()\n",
    "def find_selfloop_nodes(G):\n",
    "    \"\"\"\n",
    "    Finds all nodes that have self-loops in the graph G.\n",
    "    \"\"\"\n",
    "    nodes_in_selfloops = []\n",
    "    \n",
    "    # Iterate over all the edges of G\n",
    "    for u, v in G.edges():\n",
    "    \n",
    "    # Check if node u and node v are the same\n",
    "        if u == v:\n",
    "        \n",
    "            # Append node u to nodes_in_selfloops\n",
    "            nodes_in_selfloops.append(u)\n",
    "            \n",
    "    return nodes_in_selfloops\n",
    "\n",
    "# Check whether number of self loops equals the number of nodes in self loops\n",
    "# assert T.number_of_selfloops() == len(find_selfloop_nodes(T))"
   ]
  },
  {
   "cell_type": "markdown",
   "metadata": {},
   "source": [
    "## Node visualization\n",
    "\n",
    "- Alternate ways of visualizing network data\n",
    "    - Think hundreds of thousands of nodes\n",
    "- Matrix\n",
    "- Arc\n",
    "- Circos\n",
    "\n",
    "### Matrix plot\n",
    "- Cells filled in according to weights of nodes, if any\n",
    "<img src=\"./assets/matrix.png\", alt=\"matrix plot\", style=\"width:300px\">\n",
    "- Matrix is symmetric around diagonal for undirected graph\n",
    "- If the graph were directed, the matrix representation is not necessarily symmetric\n",
    "<img src=\"./assets/dimatrix.png\", alt=\"directed matrix plot\", style=\"width:300px\">\n",
    "- If space is relevant in the order of rows/columns in the matrix\n",
    "    - Can be used to visualize clusters or communities of nodes\n",
    "    \n",
    "### Arc plot\n",
    "- Ordered axis\n",
    "- Nodes are laid out along one axis of the plot\n",
    "- Edges are drawn using circular arcs from one node to another\n",
    "<img src=\"./assets/arc.png\", alt=\"arc plot\", style=\"width:400px\">\n",
    "- If nodes are ordered according to rule, possible to visualize connectivity\n",
    "    - e.g. age in social network\n",
    "    - geographic location, etc.\n",
    "- Arc plots form the basis of later plots we'll look at\n",
    "\n",
    "### Circos plot\n",
    "- Transformed arc plot where everything is put into a circle\n",
    "<img src=\"./assets/circos.png\", alt=\"circos plot\", style=\"width:400px\">\n",
    "- Originally used for genomics\n",
    "- Aesthetic and compact alternative to arc plots\n",
    "- We will use `nxviz API`\n"
   ]
  },
  {
   "cell_type": "markdown",
   "metadata": {},
   "source": [
    "Matrix plot"
   ]
  },
  {
   "cell_type": "code",
   "execution_count": 8,
   "metadata": {
    "collapsed": true
   },
   "outputs": [],
   "source": [
    "# Import nxviz\n",
    "import nxviz as nv\n",
    "\n",
    "# # Create the MatrixPlot object: m\n",
    "# m = nv.MatrixPlot(T)\n",
    "\n",
    "# # Draw m to the screen\n",
    "# m.draw()\n",
    "\n",
    "# # Display the plot\n",
    "# plt.show()\n",
    "\n",
    "# # Convert T to a matrix format: A\n",
    "# A = nx.to_numpy_matrix(T)\n",
    "\n",
    "# # Convert A back to the NetworkX form as a directed graph: T_conv\n",
    "# T_conv = nx.from_numpy_matrix(A, create_using=nx.DiGraph())\n",
    "\n",
    "# # Check that the `category` metadata field is lost from each node\n",
    "# for n, d in T_conv.nodes(data=True):\n",
    "#     assert 'category' not in d.keys()"
   ]
  },
  {
   "cell_type": "markdown",
   "metadata": {},
   "source": [
    "Circos"
   ]
  },
  {
   "cell_type": "code",
   "execution_count": 11,
   "metadata": {
    "collapsed": true
   },
   "outputs": [],
   "source": [
    "# # Import necessary modules\n",
    "# import matplotlib.pyplot as plt\n",
    "# from nxviz import CircosPlot\n",
    "\n",
    "# # Create the CircosPlot object: c\n",
    "# c = CircosPlot(T)\n",
    "\n",
    "# # Draw c to the screen\n",
    "# c.draw()\n",
    "\n",
    "# # Display the plot\n",
    "# plt.show()"
   ]
  },
  {
   "cell_type": "markdown",
   "metadata": {},
   "source": [
    "Arcplots"
   ]
  },
  {
   "cell_type": "code",
   "execution_count": 12,
   "metadata": {
    "collapsed": true
   },
   "outputs": [],
   "source": [
    "# # Import necessary modules\n",
    "# import matplotlib.pyplot as plt\n",
    "# from nxviz import ArcPlot\n",
    "\n",
    "# # Create the un-customized ArcPlot object: a\n",
    "# a = ArcPlot(T)\n",
    "\n",
    "# # Draw a to the screen\n",
    "# a.draw()\n",
    "\n",
    "# # Display the plot\n",
    "# plt.show()\n",
    "\n",
    "# # Create the customized ArcPlot object: a2\n",
    "# a2 = ArcPlot(T, node_order = 'category', node_color='category')\n",
    "\n",
    "# # Draw a2 to the screen\n",
    "# a2.draw()\n",
    "\n",
    "# # Display the plot\n",
    "# plt.show()\n"
   ]
  }
 ],
 "metadata": {
  "kernelspec": {
   "display_name": "Python [Root]",
   "language": "python",
   "name": "Python [Root]"
  },
  "language_info": {
   "codemirror_mode": {
    "name": "ipython",
    "version": 3
   },
   "file_extension": ".py",
   "mimetype": "text/x-python",
   "name": "python",
   "nbconvert_exporter": "python",
   "pygments_lexer": "ipython3",
   "version": "3.5.2"
  }
 },
 "nbformat": 4,
 "nbformat_minor": 0
}
