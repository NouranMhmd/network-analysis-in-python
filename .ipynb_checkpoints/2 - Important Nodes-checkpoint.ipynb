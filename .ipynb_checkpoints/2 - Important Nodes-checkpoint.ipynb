{
 "cells": [
  {
   "cell_type": "markdown",
   "metadata": {},
   "source": [
    "# Important Nodes\n",
    "\n",
    "## How can we tell what an important node is?\n",
    "- Degree centrality\n",
    "- Betweenness centrality\n",
    "\n",
    "### Example:\n",
    "\n",
    "<img src=\"./assets/stargraph.png\", alt=\"star graph\", style=\"width:400px\">\n",
    "- Which of the centre nodes would be classified as \"more important\"\n",
    "    - The left graph\n",
    "    - Because it is connected to more nodes\n",
    "    - Being connected to other nodes means those nodes are neighbours of the center nodes\n",
    "\n",
    "### Degree centrality:\n",
    "- Metric to evaluate importance of node\n",
    "- Number of neighbours a node has / number of neighbours a node could possibly have\n",
    "- If self-loops are allowed, the number of neighbours is:\n",
    "    - Every single node in the graph including itself\n",
    "- In social network (cannot follow/friend yourself in social networks)\n",
    "    - Number of neighbours you could possibly have is every other node in the graph excluding yourself\n",
    "\n",
    "### Examples of high degree centrality:\n",
    "- Twitter broadcasters\n",
    "    - users that are followed by many others\n",
    "- Airport transportation hubs\n",
    "    - NY, London, Tokyo airports\n",
    "- Disease super-spreaders\n",
    "\n",
    "### Using NetworkX\n",
    "- Can find # numbers using `networkx` with `G.neighbours(k)` where k is the kth node in the graph.\n",
    "- If k does not exist, will throw error\n",
    "- Use `nx.degree_centrality()` to find degree centrality\n",
    "    - Self loops are **not** considered using this function"
   ]
  },
  {
   "cell_type": "code",
   "execution_count": 1,
   "metadata": {
    "collapsed": true
   },
   "outputs": [],
   "source": [
    "import networkx as nx"
   ]
  },
  {
   "cell_type": "code",
   "execution_count": 2,
   "metadata": {
    "collapsed": true
   },
   "outputs": [],
   "source": [
    "# Define nodes_with_m_nbrs()\n",
    "def nodes_with_m_nbrs(G,m):\n",
    "    \"\"\"\n",
    "    Returns all nodes in graph G that have m neighbors.\n",
    "    \"\"\"\n",
    "    nodes = set()\n",
    "    \n",
    "    # Iterate over all nodes in G\n",
    "    for n in G.nodes():\n",
    "    \n",
    "        # Check if the number of neighbors of n matches m\n",
    "        if len(G.neighbors(n)) == m:\n",
    "        \n",
    "            # Add the node n to the set\n",
    "            nodes.add(n)\n",
    "            \n",
    "    # Return the nodes with m neighbors\n",
    "    return nodes\n",
    "\n",
    "# Compute and print all nodes in T that have 6 neighbors\n",
    "# six_nbrs = nodes_with_m_nbrs(T,6)\n",
    "# print(six_nbrs)"
   ]
  },
  {
   "cell_type": "code",
   "execution_count": 3,
   "metadata": {
    "collapsed": true
   },
   "outputs": [],
   "source": [
    "# # Compute the degree of every node: degrees\n",
    "# degrees = [len(T.neighbors(n)) for n in T.nodes()]\n",
    "\n",
    "# # Print the degrees\n",
    "# print(degrees)"
   ]
  },
  {
   "cell_type": "markdown",
   "metadata": {},
   "source": [
    "## Graph algorithms\n",
    "\n",
    "## Path Finding\n",
    "- Finding shortest transportation path\n",
    "- Modelling spread of disease\n",
    "- Information spread in social network\n",
    "- How do we find out if there is a path between two nodes\n",
    "    - How about the shortest path?\n",
    "\n",
    "### Breadth-first Search (BFS)\n",
    "<img src=\"./assets/bfs1.png\", alt=\"breadth first search\", style=\"width:400px\">\n",
    "**Find shortest path between two nodes (yellow to red)**\n",
    "\n",
    "    1. Start at yellow node (above)         \n",
    "    2. Ask for yellow nodes neighbors\n",
    "<img src=\"./assets/bfs2.png\", alt=\"breadth first search\", style=\"width:200px\">    \n",
    "    3. Ask if destination node (red) is present in yellow node's neighbours    \n",
    "    4. If not, continue on\n",
    "<img src=\"./assets/bfs3.png\", alt=\"breadth first search\", style=\"width:200px\">\n",
    "    \n",
    "    5. Go to 2 degrees of separation, then ask for neighbours of neighbours\n",
    "    6. If destination is still not present, continue on\n",
    "<img src=\"./assets/bfs4.png\", alt=\"breadth first search\", style=\"width:200px\">\n",
    "    \n",
    "- Note that there was another path possible as well, but it was longer\n",
    "- Thus the BFS successfully found the shortest path between two nodes\n"
   ]
  },
  {
   "cell_type": "code",
   "execution_count": 7,
   "metadata": {
    "collapsed": true
   },
   "outputs": [],
   "source": [
    "def path_exists(G, node1, node2):\n",
    "    \"\"\"\n",
    "    This function checks whether a path exists between two nodes (node1, node2) in graph G.\n",
    "    \"\"\"\n",
    "    visited_nodes = set()\n",
    "    queue = [node1]\n",
    "    \n",
    "    for node in queue:  \n",
    "        neighbors = G.neighbors(node)\n",
    "        if node2 in neighbors:\n",
    "            print('Path exists between nodes {0} and {1}'.format(node1, node2))\n",
    "            return True\n",
    "            break\n",
    "\n",
    "        else:\n",
    "            visited_nodes.add(node)\n",
    "            queue.extend([n for n in neighbors if n not in visited_nodes])\n",
    "        \n",
    "        # Check to see if the final element of the queue has been reached\n",
    "        if node == queue[-1]:\n",
    "            print('Path does not exist between nodes {0} and {1}'.format(node1, node2))\n",
    "\n",
    "            # Place the appropriate return statement\n",
    "            return False"
   ]
  },
  {
   "cell_type": "markdown",
   "metadata": {},
   "source": [
    "## Betweenness centrality\n",
    "\n",
    "### All shortest paths\n",
    "- Finding the shortest paths between every set of nodes\n",
    "- Set of paths in a graph such that each path is the shortest path between a set of nodes for all sets of nodes\n",
    "\n",
    "### Betweenness centrality\n",
    "- Number of shortest paths through a  node divided by all possible shortest paths\n",
    "- Captures bottleneck nodes in a graph rather than highly connected nodes\n",
    "- May be useful to find individuals that bridge two communities\n",
    "    - Simultaneously Liberal- and conservative-leaning twitter users\n",
    "    - Crucial information links in the internet\n",
    "    \n",
    "#### Example\n",
    "<img src=\"./assets/singapore.png\", alt=\"singapore subway map\", style=\"width:500px\">\n",
    "- Highly clustered station in the south\n",
    "- Jurong East only connected to three other stations\n",
    "- Major transit connector point between red and green lines\n",
    "\n",
    "- Take a look at graph below\n",
    "<img src=\"./assets/barbell.png\", alt=\"barbell graph\", style=\"width:300px\">\n",
    "- `nx.barbell_graph(m1=5,m2=1)`\n",
    "- `nx.betweenness_centrality(G)`\n",
    "    - Returns a list of betweenness_centrality\n",
    "    - Nodes at end will have score of 0\n",
    "    "
   ]
  },
  {
   "cell_type": "code",
   "execution_count": 8,
   "metadata": {
    "collapsed": true
   },
   "outputs": [],
   "source": [
    "# Define find_nodes_with_highest_deg_cent()\n",
    "def find_nodes_with_highest_deg_cent(G):\n",
    "\n",
    "    # Compute the degree centrality of G: deg_cent\n",
    "    deg_cent = nx.degree_centrality(G)\n",
    "    \n",
    "    # Compute the maximum degree centrality: max_dc\n",
    "    max_dc = max(list(deg_cent.values()))\n",
    "    \n",
    "    nodes = set()\n",
    "    \n",
    "    # Iterate over the degree centrality dictionary\n",
    "    for k, v in deg_cent.items():\n",
    "    \n",
    "        # Check if the current value has the maximum degree centrality\n",
    "        if v == max_dc:\n",
    "        \n",
    "            # Add the current node to the set of nodes\n",
    "            nodes.add(k)\n",
    "            \n",
    "    return nodes\n",
    "    \n",
    "# Find the node(s) that has the highest degree centrality in T: top_dc\n",
    "# top_dc = find_nodes_with_highest_deg_cent(T)\n",
    "# print(top_dc)\n",
    "\n",
    "# # Write the assertion statement\n",
    "# for node in top_dc:\n",
    "#     assert nx.degree_centrality(T)[node] == max(nx.degree_centrality(T).values())"
   ]
  },
  {
   "cell_type": "code",
   "execution_count": 9,
   "metadata": {
    "collapsed": true
   },
   "outputs": [],
   "source": [
    "# Define find_node_with_highest_bet_cent()\n",
    "def find_node_with_highest_bet_cent(G):\n",
    "\n",
    "    # Compute betweenness centrality: bet_cent\n",
    "    bet_cent = nx.betweenness_centrality(G)\n",
    "    \n",
    "    # Compute maximum betweenness centrality: max_bc\n",
    "    max_bc = max(list(bet_cent.values()))\n",
    "    \n",
    "    nodes = set()\n",
    "    \n",
    "    # Iterate over the betweenness centrality dictionary\n",
    "    for k, v in bet_cent.items():\n",
    "    \n",
    "        # Check if the current value has the maximum betweenness centrality\n",
    "        if v == max_bc:\n",
    "        \n",
    "            # Add the current node to the set of nodes\n",
    "            nodes.add(k)\n",
    "            \n",
    "    return nodes\n",
    "\n",
    "# # Use that function to find the node(s) that has the highest betweenness centrality in the network: top_bc\n",
    "# top_bc = find_node_with_highest_bet_cent(T)\n",
    "\n",
    "# # Write an assertion statement that checks that the node(s) is/are correctly identified.\n",
    "# for node in top_bc:\n",
    "#     assert nx.betweenness_centrality(T)[node] == max(nx.betweenness_centrality(T).values())"
   ]
  }
 ],
 "metadata": {
  "kernelspec": {
   "display_name": "Python [Root]",
   "language": "python",
   "name": "Python [Root]"
  },
  "language_info": {
   "codemirror_mode": {
    "name": "ipython",
    "version": 3
   },
   "file_extension": ".py",
   "mimetype": "text/x-python",
   "name": "python",
   "nbconvert_exporter": "python",
   "pygments_lexer": "ipython3",
   "version": "3.5.2"
  }
 },
 "nbformat": 4,
 "nbformat_minor": 0
}
